{
 "cells": [
  {
   "cell_type": "code",
   "execution_count": 141,
   "metadata": {},
   "outputs": [],
   "source": [
    "from ipynb.fs.defs.pdfToText import PdfConverter\n",
    "from nltk.tokenize import word_tokenize\n",
    "from nltk.corpus import stopwords\n",
    "import string\n",
    "from nltk.stem.wordnet import WordNetLemmatizer\n",
    "import pandas as pd\n",
    "import os\n",
    "from glob import glob\n",
    "import numpy as np\n",
    "import nltk"
   ]
  },
  {
   "cell_type": "code",
   "execution_count": 142,
   "metadata": {},
   "outputs": [
    {
     "name": "stdout",
     "output_type": "stream",
     "text": [
      "Resume.pdf\n",
      "Rishav.pdf\n"
     ]
    }
   ],
   "source": [
    "#reading all pdf files in current folder\n",
    "files = [f for f in os.listdir('.') if os.path.isfile(f) and f.endswith('.pdf')]\n",
    "#print(files)\n",
    "\n",
    "list_of_files = []\n",
    "for x in files:\n",
    "    list_of_files.append(x)\n",
    "\n",
    "for x in list_of_files:\n",
    "    print(x)"
   ]
  },
  {
   "cell_type": "code",
   "execution_count": 143,
   "metadata": {},
   "outputs": [],
   "source": [
    "my_df = pd.DataFrame()#columns=[\"name\",\"skills\"])\n",
    "my_df.to_csv('my_csv.csv',index=True,header=True)"
   ]
  },
  {
   "cell_type": "code",
   "execution_count": 144,
   "metadata": {},
   "outputs": [
    {
     "name": "stdout",
     "output_type": "stream",
     "text": [
      "name of file being read =  Resume\n",
      "Skills =  ['java', 'web development']\n",
      "name of file being read =  Rishav\n",
      "Skills =  ['know', 'competitive programming']\n"
     ]
    }
   ],
   "source": [
    "read_files = []\n",
    "p = []\n",
    "for reading_file in list_of_files:\n",
    "    if reading_file not in read_files:\n",
    "        \n",
    "        read_files.append(reading_file)\n",
    "        \n",
    "        pdfConverter = PdfConverter(file_path = reading_file)\n",
    "        text = pdfConverter.convert_pdf_to_txt()\n",
    "        pdfConverter.save_convert_pdf_to_txt()\n",
    "        \n",
    "        tokens = word_tokenize(text)\n",
    "        \n",
    "        tokens = [w.lower() for w in tokens]\n",
    "        \n",
    "        stop_words = stopwords.words('english')\n",
    "        tokens = [word for word in tokens if not word in stop_words]\n",
    "        \n",
    "        tokens = [''.join(c for c in s if c not in string.punctuation) for s in tokens]\n",
    "        tokens = [c for c in tokens if c]\n",
    "        \n",
    "        y = ['●']\n",
    "        x = []\n",
    "        for a in tokens:\n",
    "            if not a in y and not a in x:\n",
    "                x.append(a)\n",
    "        \n",
    "        tokens = x\n",
    "     \n",
    "        start = tokens.index(\"skills\")\n",
    "        end = tokens.index(\"experience\")\n",
    "        skills = tokens[start+1:end]\n",
    "        \n",
    "        space = \" \"\n",
    "        additional = ['development','programming']\n",
    "        for i in range(0,len(skills)):\n",
    "            if skills[i] in additional:\n",
    "                skills[i-1] = skills[i-1] +space + skills[i]\n",
    "                skills[i] = \"*\"\n",
    "        \n",
    "        l=[]\n",
    "        for x in skills:\n",
    "            if x != '*':\n",
    "                l.append(x)\n",
    "        \n",
    "        skills = l\n",
    "        \n",
    "            \n",
    "        lmtzr = WordNetLemmatizer()\n",
    "        for i in range(len(skills)):\n",
    "            skills[i] = lmtzr.lemmatize(skills[i])\n",
    "        \n",
    "        #s = \",\".join(s for s in skills)\n",
    "        \n",
    "        name = \"\"\n",
    "        for i in range(len(reading_file)):\n",
    "            if reading_file[i] == '.':\n",
    "                break\n",
    "            else:\n",
    "                name += reading_file[i]\n",
    "        print(\"name of file being read = \",name)\n",
    "        \n",
    "        \n",
    "        tagged = nltk.pos_tag(skills)\n",
    "        \n",
    "        nv = ['NN',\"NNS\",\"NNP\",\"NNPS\",\"VB\",\"VBD\",\"VBG\",\"VBN\",\"VBP\",\"VBZ\"]\n",
    "        s = []\n",
    "        for i in range(0,len(tagged)):\n",
    "            if tagged[i][1] in nv:\n",
    "                s.append(tagged[i][0])\n",
    "        \n",
    "        skills = s\n",
    "        print(\"Skills = \",skills)\n",
    "        #headers=[\"name\",\"skills\",\"fdjbv\",\"khdgf\"]\n",
    "        af = [name]\n",
    "        for i in skills:\n",
    "            af.append(i)\n",
    "        p.append(af)\n",
    "    \n",
    "my_df = pd.DataFrame(p)\n",
    "with open('my_csv.csv','a') as f:\n",
    "    my_df.to_csv(f,header=True)\n",
    "            \n",
    "df=pd.read_csv(\"my_csv.csv\")\n",
    "        "
   ]
  },
  {
   "cell_type": "code",
   "execution_count": 145,
   "metadata": {},
   "outputs": [
    {
     "data": {
      "text/html": [
       "<div>\n",
       "<style scoped>\n",
       "    .dataframe tbody tr th:only-of-type {\n",
       "        vertical-align: middle;\n",
       "    }\n",
       "\n",
       "    .dataframe tbody tr th {\n",
       "        vertical-align: top;\n",
       "    }\n",
       "\n",
       "    .dataframe thead th {\n",
       "        text-align: right;\n",
       "    }\n",
       "</style>\n",
       "<table border=\"1\" class=\"dataframe\">\n",
       "  <thead>\n",
       "    <tr style=\"text-align: right;\">\n",
       "      <th></th>\n",
       "      <th></th>\n",
       "      <th></th>\n",
       "      <th>Unnamed: 0</th>\n",
       "    </tr>\n",
       "  </thead>\n",
       "  <tbody>\n",
       "    <tr>\n",
       "      <th>NaN</th>\n",
       "      <th>0</th>\n",
       "      <th>1</th>\n",
       "      <td>2</td>\n",
       "    </tr>\n",
       "    <tr>\n",
       "      <th>0.0</th>\n",
       "      <th>Resume</th>\n",
       "      <th>java</th>\n",
       "      <td>web development</td>\n",
       "    </tr>\n",
       "    <tr>\n",
       "      <th>1.0</th>\n",
       "      <th>Rishav</th>\n",
       "      <th>know</th>\n",
       "      <td>competitive programming</td>\n",
       "    </tr>\n",
       "  </tbody>\n",
       "</table>\n",
       "</div>"
      ],
      "text/plain": [
       "                              Unnamed: 0\n",
       "NaN 0      1                           2\n",
       "0.0 Resume java          web development\n",
       "1.0 Rishav know  competitive programming"
      ]
     },
     "execution_count": 145,
     "metadata": {},
     "output_type": "execute_result"
    }
   ],
   "source": [
    "df"
   ]
  },
  {
   "cell_type": "code",
   "execution_count": null,
   "metadata": {},
   "outputs": [],
   "source": []
  }
 ],
 "metadata": {
  "kernelspec": {
   "display_name": "Python 3",
   "language": "python",
   "name": "python3"
  },
  "language_info": {
   "codemirror_mode": {
    "name": "ipython",
    "version": 3
   },
   "file_extension": ".py",
   "mimetype": "text/x-python",
   "name": "python",
   "nbconvert_exporter": "python",
   "pygments_lexer": "ipython3",
   "version": "3.5.2"
  }
 },
 "nbformat": 4,
 "nbformat_minor": 2
}
